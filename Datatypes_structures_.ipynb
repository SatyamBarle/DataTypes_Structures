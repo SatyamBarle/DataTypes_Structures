{
  "nbformat": 4,
  "nbformat_minor": 0,
  "metadata": {
    "colab": {
      "provenance": []
    },
    "kernelspec": {
      "name": "python3",
      "display_name": "Python 3"
    },
    "language_info": {
      "name": "python"
    }
  },
  "cells": [
    {
      "cell_type": "markdown",
      "source": [
        "Dat Types and Structures"
      ],
      "metadata": {
        "id": "KFRqjutEk9GD"
      }
    },
    {
      "cell_type": "markdown",
      "source": [
        "1. What are data structures, and why are they important?\n",
        " - Data structures organize and store data efficiently. They help in solving problems faster and managing data better.\n",
        "\n",
        "2. Explain the difference between mutable and -\n",
        "  - immutable data types with examples.\n",
        "\n",
        "   - Mutable: Can be changed after creation (e.g., list: my_list = [1, 2]).\n",
        "Immutable: Cannot be changed (e.g., tuple: my_tuple = (1, 2)).\n",
        "\n",
        "3. What are the main differences between lists and tuples in Python?\n",
        "\n",
        " - Lists are mutable; tuples are immutable.\n",
        " - Lists use more memory; tuples are faster.\n",
        "4. Describe how dictionaries store data.\n",
        "  - Dictionaries store data as key-value pairs, like \"name\": \"kush\".\n",
        "\n",
        "5. Why might you use a set instead of a list in Python?\n",
        "  - Sets automatically remove duplicates and are faster for certain operations.\n",
        "\n",
        "6. What is a string in Python, and how is it different from a list?\n",
        "  - A string is a sequence of characters, while a list can store different types of elements.\n",
        "\n",
        "7. How do tuples ensure data integrity in Python?\n",
        "  - Tuples cannot be changed, so data stays safe and consistent.\n",
        "\n",
        "8. What is a hash table, and how does it relate to dictionaries in Python?\n",
        "  - A hash table is a structure that maps keys to values efficiently. Dictionaries use hash tables.\n",
        "\n",
        "9. Can lists contain different data types in Python?\n",
        "  -  Yes, a list can have numbers, strings, and other lists.\n",
        "\n",
        "10. Explain why strings are immutable in Python.\n",
        "  - Strings are immutable for memory efficiency and security.\n",
        "\n",
        "11. What advantages do dictionaries offer over lists for certain tasks?\n",
        "  - They allow faster data lookup using keys.\n",
        "\n",
        "12. Describe a scenario where using a tuple would be preferable over a list.\n",
        "  - When you need fixed, unchangeable data, like coordinates (x, y).\n",
        "\n",
        "13. How do sets handle duplicate values in Python?\n",
        "  - Sets automatically remove duplicates.\n",
        "\n",
        "14. How does the \"in\" keyword work differently for lists and dictionaries?\n",
        "\n",
        "  - In lists, it checks for values.\n",
        "  - In dictionaries, it checks for keys.\n",
        "\n",
        "15. Can you modify the elements of a tuple? Explain why or why not.\n",
        "  - No, tuples are immutable, meaning their elements cannot be changed.\n",
        "\n",
        "16. What is a nested dictionary, and give an example of its use case.\n",
        "  - A dictionary inside another dictionary. Example:\n",
        "  {\"student1\": {\"name\": \"satyam\", \"age\": 20}}\n",
        "\n",
        "17. Describe the time complexity of accessing elements in a dictionary.\n",
        "  - O(1) , average.\n",
        "\n",
        "18. In what situations are lists preferred over dictionaries?\n",
        "  - When you don’t need key-based access and data has a natural order.\n",
        "\n",
        "19. Why are dictionaries considered unordered, and how does that affect data retrieval?\n",
        "  - They store elements by key-value pairs, not in a specific sequence.\n",
        "\n",
        "20.  Explain the difference between a list and a dictionary in terms of data retrieval.\n",
        "  - Lists retrieve by index.\n",
        "  - Dictionaries retrieve by key."
      ],
      "metadata": {
        "id": "UESXRE_4mD_U"
      }
    },
    {
      "cell_type": "markdown",
      "source": [
        "PRACTICAL QUESTION :\n"
      ],
      "metadata": {
        "id": "puUN0rQbyLYT"
      }
    },
    {
      "cell_type": "code",
      "source": [
        "# 1. Write a code to create a string with your name and print it\n",
        "name = \"satyam\"\n",
        "print(name)\n",
        "\n"
      ],
      "metadata": {
        "id": "TpTh8Gcao5Hi",
        "colab": {
          "base_uri": "https://localhost:8080/"
        },
        "outputId": "6f980e34-1b46-4731-f77e-9fa2f5dc2518"
      },
      "execution_count": null,
      "outputs": [
        {
          "output_type": "stream",
          "name": "stdout",
          "text": [
            "John Doe\n"
          ]
        }
      ]
    },
    {
      "cell_type": "code",
      "execution_count": null,
      "metadata": {
        "id": "QbEjz_5ykxhl",
        "colab": {
          "base_uri": "https://localhost:8080/"
        },
        "outputId": "669a43e4-2d3d-4dd0-e4e4-9431926b3f59"
      },
      "outputs": [
        {
          "output_type": "stream",
          "name": "stdout",
          "text": [
            "11\n"
          ]
        }
      ],
      "source": [
        "# 2. Write a code to find the length of the string \"Hello World\"\n",
        "text = \"Hello World\"\n",
        "print(len(text))\n"
      ]
    },
    {
      "cell_type": "code",
      "source": [
        "# 3. Write a code to slice the first 3 characters from the string \"Python Programming\"\n",
        "text = \"Python Programming\"\n",
        "print(text[:3])\n"
      ],
      "metadata": {
        "colab": {
          "base_uri": "https://localhost:8080/"
        },
        "id": "r4M6KEO7spDt",
        "outputId": "6952345d-746b-4a27-cb3a-284af1878144"
      },
      "execution_count": null,
      "outputs": [
        {
          "output_type": "stream",
          "name": "stdout",
          "text": [
            "Pyt\n"
          ]
        }
      ]
    },
    {
      "cell_type": "code",
      "source": [
        "# 4. Write a code to convert the string \"hello\" to uppercase\n",
        "word = \"hello\"\n",
        "print(word.upper())\n"
      ],
      "metadata": {
        "colab": {
          "base_uri": "https://localhost:8080/"
        },
        "id": "j0IXkbJPsuyw",
        "outputId": "c76391a1-c61e-4c20-c348-60b1778a7a9a"
      },
      "execution_count": null,
      "outputs": [
        {
          "output_type": "stream",
          "name": "stdout",
          "text": [
            "HELLO\n"
          ]
        }
      ]
    },
    {
      "cell_type": "code",
      "source": [
        "# 5. Write a code to replace the word \"apple\" with \"orange\" in the string \"I like apple\"\n",
        "sentence = \"I like apple\"\n",
        "print(sentence.replace(\"apple\", \"orange\"))\n"
      ],
      "metadata": {
        "colab": {
          "base_uri": "https://localhost:8080/"
        },
        "id": "8JnaQuhms2JG",
        "outputId": "9053a056-f3f1-4944-c894-1f5c901047d0"
      },
      "execution_count": null,
      "outputs": [
        {
          "output_type": "stream",
          "name": "stdout",
          "text": [
            "I like orange\n"
          ]
        }
      ]
    },
    {
      "cell_type": "code",
      "source": [
        "#6. Write a code to create a list with numbers 1 to 5 and print it\n",
        "numbers = [1, 2, 3, 4, 5]\n",
        "print(numbers)\n"
      ],
      "metadata": {
        "colab": {
          "base_uri": "https://localhost:8080/"
        },
        "id": "MIyVK4AWs8b3",
        "outputId": "63be04cd-e09a-4399-96f5-99000b61675e"
      },
      "execution_count": null,
      "outputs": [
        {
          "output_type": "stream",
          "name": "stdout",
          "text": [
            "[1, 2, 3, 4, 5]\n"
          ]
        }
      ]
    },
    {
      "cell_type": "code",
      "source": [
        "# 7. Write a code to append the number 10 to the list [1, 2, 3, 4]\n",
        "numbers = [1, 2, 3, 4]\n",
        "numbers.append(10)\n",
        "print(numbers)\n"
      ],
      "metadata": {
        "colab": {
          "base_uri": "https://localhost:8080/"
        },
        "id": "1ce9agv3tB7N",
        "outputId": "2e1e3fee-7fca-4097-b59e-e45e6399db17"
      },
      "execution_count": null,
      "outputs": [
        {
          "output_type": "stream",
          "name": "stdout",
          "text": [
            "[1, 2, 3, 4, 10]\n"
          ]
        }
      ]
    },
    {
      "cell_type": "code",
      "source": [
        "# 8. Write a code to remove the number 3 from the list [1, 2, 3, 4, 5]\n",
        "numbers = [1, 2, 3, 4, 5]\n",
        "numbers.remove(3)\n",
        "print(numbers)\n"
      ],
      "metadata": {
        "colab": {
          "base_uri": "https://localhost:8080/"
        },
        "id": "gLGC8-gztJMr",
        "outputId": "b9f4e38f-46ff-4a3e-c3e0-f453be2bccda"
      },
      "execution_count": null,
      "outputs": [
        {
          "output_type": "stream",
          "name": "stdout",
          "text": [
            "[1, 2, 4, 5]\n"
          ]
        }
      ]
    },
    {
      "cell_type": "code",
      "source": [
        "# 9. Write a code to access the second element in the list ['a', 'b', 'c', 'd']\n",
        "letters = ['a', 'b', 'c', 'd']\n",
        "print(letters[1])\n"
      ],
      "metadata": {
        "colab": {
          "base_uri": "https://localhost:8080/"
        },
        "id": "ElMjVhlRtRia",
        "outputId": "ab4fef6f-cb45-4f3a-fd8a-818f81f991b7"
      },
      "execution_count": null,
      "outputs": [
        {
          "output_type": "stream",
          "name": "stdout",
          "text": [
            "b\n"
          ]
        }
      ]
    },
    {
      "cell_type": "code",
      "source": [
        "# 10. Write a code to reverse the list [10, 20, 30, 40, 50].\n",
        "numbers = [10, 20, 30, 40, 50]\n",
        "numbers.reverse()\n",
        "print(numbers)\n"
      ],
      "metadata": {
        "colab": {
          "base_uri": "https://localhost:8080/"
        },
        "id": "tI4miXJDtZdw",
        "outputId": "1ad5f84b-282b-4f7e-8a28-16a5eb9abcd0"
      },
      "execution_count": null,
      "outputs": [
        {
          "output_type": "stream",
          "name": "stdout",
          "text": [
            "[50, 40, 30, 20, 10]\n"
          ]
        }
      ]
    },
    {
      "cell_type": "code",
      "source": [
        "# 11. Write a code to create a tuple with the elements 100, 200, 300 and print it.\n",
        "\n",
        "my_tuple = (100, 200, 300)\n",
        "print(my_tuple)\n"
      ],
      "metadata": {
        "colab": {
          "base_uri": "https://localhost:8080/"
        },
        "id": "Gm8BgsILtfZs",
        "outputId": "aa515f41-e41e-45be-944e-d0b6a1797752"
      },
      "execution_count": null,
      "outputs": [
        {
          "output_type": "stream",
          "name": "stdout",
          "text": [
            "(100, 200, 300)\n"
          ]
        }
      ]
    },
    {
      "cell_type": "code",
      "source": [
        "# 12. Write a code to access the second-to-last element of the tuple ('red', 'green', 'blue', 'yellow').\n",
        "colors = ('red', 'green', 'blue', 'yellow')\n",
        "print(colors[-2])\n"
      ],
      "metadata": {
        "colab": {
          "base_uri": "https://localhost:8080/"
        },
        "id": "LPCq2Dz8tkah",
        "outputId": "9f2e8dd9-793c-4ecd-d3ac-ec4a265abd35"
      },
      "execution_count": null,
      "outputs": [
        {
          "output_type": "stream",
          "name": "stdout",
          "text": [
            "blue\n"
          ]
        }
      ]
    },
    {
      "cell_type": "code",
      "source": [
        "# 13. Write a code to find the minimum number in the tuple (10, 20, 5, 15).\n",
        "\n",
        "numbers = (10, 20, 5, 15)\n",
        "print(min(numbers))\n"
      ],
      "metadata": {
        "colab": {
          "base_uri": "https://localhost:8080/"
        },
        "id": "CurQjFKqtpBu",
        "outputId": "b9edd64c-1c19-42cb-e929-1c3a3980ae21"
      },
      "execution_count": null,
      "outputs": [
        {
          "output_type": "stream",
          "name": "stdout",
          "text": [
            "5\n"
          ]
        }
      ]
    },
    {
      "cell_type": "code",
      "source": [
        "# 14.  Write a code to find the index of the element \"cat\" in the tuple ('dog', 'cat', 'rabbit').\n",
        "\n",
        "animals = ('dog', 'cat', 'rabbit')\n",
        "print(animals.index(\"cat\"))\n"
      ],
      "metadata": {
        "colab": {
          "base_uri": "https://localhost:8080/"
        },
        "id": "yiaufH8Lttjp",
        "outputId": "07c44201-b942-4885-a4b6-257cc330e66f"
      },
      "execution_count": null,
      "outputs": [
        {
          "output_type": "stream",
          "name": "stdout",
          "text": [
            "1\n"
          ]
        }
      ]
    },
    {
      "cell_type": "code",
      "source": [
        "# 15. Write a code to create a tuple containing three different fruits and check if \"kiwi\" is in it.\n",
        "fruits = (\"apple\", \"banana\", \"cherry\")\n",
        "print(\"kiwi\" in fruits)\n"
      ],
      "metadata": {
        "colab": {
          "base_uri": "https://localhost:8080/"
        },
        "id": "Pl9ieEk0tzAr",
        "outputId": "234816c6-ca32-47b8-d06c-e14231906b23"
      },
      "execution_count": null,
      "outputs": [
        {
          "output_type": "stream",
          "name": "stdout",
          "text": [
            "False\n"
          ]
        }
      ]
    },
    {
      "cell_type": "code",
      "source": [
        "# 16. Write a code to create a set with the elements 'a', 'b', 'c' and print it.\n",
        "\n",
        "my_set = {'a', 'b', 'c'}\n",
        "print(my_set)\n"
      ],
      "metadata": {
        "colab": {
          "base_uri": "https://localhost:8080/"
        },
        "id": "SLIp0CMzt3Z2",
        "outputId": "c3fbd340-141f-4639-e090-b9c19c565ffb"
      },
      "execution_count": null,
      "outputs": [
        {
          "output_type": "stream",
          "name": "stdout",
          "text": [
            "{'c', 'b', 'a'}\n"
          ]
        }
      ]
    },
    {
      "cell_type": "code",
      "source": [
        "# 17. Write a code to clear all elements from the set {1, 2, 3, 4, 5}.\n",
        "my_set = {1, 2, 3, 4, 5}\n",
        "my_set.clear()\n",
        "print(my_set)\n"
      ],
      "metadata": {
        "colab": {
          "base_uri": "https://localhost:8080/"
        },
        "id": "0hG3IiVPt7zJ",
        "outputId": "24c2b3f1-61f6-4f65-d090-f2a70bbd6c55"
      },
      "execution_count": null,
      "outputs": [
        {
          "output_type": "stream",
          "name": "stdout",
          "text": [
            "set()\n"
          ]
        }
      ]
    },
    {
      "cell_type": "code",
      "source": [
        "# 18. Write a code to remove the element 4 from the set {1, 2, 3, 4}.\n",
        "my_set = {1, 2, 3, 4}\n",
        "my_set.remove(4)\n",
        "print(my_set)\n"
      ],
      "metadata": {
        "colab": {
          "base_uri": "https://localhost:8080/"
        },
        "id": "z5Jk9EB_uBMH",
        "outputId": "33b00f64-7b77-4f99-877b-246f9dadacfd"
      },
      "execution_count": null,
      "outputs": [
        {
          "output_type": "stream",
          "name": "stdout",
          "text": [
            "{1, 2, 3}\n"
          ]
        }
      ]
    },
    {
      "cell_type": "code",
      "source": [
        "# 19.  Write a code to find the union of two sets {1, 2, 3} and {3, 4, 5}.\n",
        "set1 = {1, 2, 3}\n",
        "set2 = {3, 4, 5}\n",
        "print(set1.union(set2))\n"
      ],
      "metadata": {
        "colab": {
          "base_uri": "https://localhost:8080/"
        },
        "id": "XoVOGU1RuF9k",
        "outputId": "636f806a-9fc2-419c-a3f3-b1a56400d0c8"
      },
      "execution_count": null,
      "outputs": [
        {
          "output_type": "stream",
          "name": "stdout",
          "text": [
            "{1, 2, 3, 4, 5}\n"
          ]
        }
      ]
    },
    {
      "cell_type": "code",
      "source": [
        "# 20. Write a code to find the intersection of two sets {1, 2, 3} and {2, 3, 4}.\n",
        "set1 = {1, 2, 3}\n",
        "set2 = {2, 3, 4}\n",
        "print(set1.intersection(set2))\n"
      ],
      "metadata": {
        "colab": {
          "base_uri": "https://localhost:8080/"
        },
        "id": "5m-e_s5TuK4f",
        "outputId": "9969b3de-7f49-4ca9-d841-f77389e9f4bf"
      },
      "execution_count": null,
      "outputs": [
        {
          "output_type": "stream",
          "name": "stdout",
          "text": [
            "{2, 3}\n"
          ]
        }
      ]
    },
    {
      "cell_type": "code",
      "source": [
        "# 21. Write a code to create a dictionary with the keys \"name\", \"age\", and \"city\", and print it.\n",
        "person = {\"name\": \"satyam\", \"age\": 30, \"city\": \"New York\"}\n",
        "print(person)\n"
      ],
      "metadata": {
        "colab": {
          "base_uri": "https://localhost:8080/"
        },
        "id": "c6ZAneKauPLY",
        "outputId": "93feaecb-fae6-4088-87a9-dd9107d52b6c"
      },
      "execution_count": null,
      "outputs": [
        {
          "output_type": "stream",
          "name": "stdout",
          "text": [
            "{'name': 'John', 'age': 30, 'city': 'New York'}\n"
          ]
        }
      ]
    },
    {
      "cell_type": "code",
      "source": [
        "# 22. Write a code to add a new key-value pair \"country\": \"USA\" to the dictionary {'name': 'John', 'age': 25}.\n",
        "person = {\"name\": \"aashu\", \"age\": 25}\n",
        "person[\"country\"] = \"USA\"\n",
        "print(person)\n"
      ],
      "metadata": {
        "colab": {
          "base_uri": "https://localhost:8080/"
        },
        "id": "ENvDIdutuUNZ",
        "outputId": "4654577e-ac2d-4b6d-ef1e-a2100e257727"
      },
      "execution_count": null,
      "outputs": [
        {
          "output_type": "stream",
          "name": "stdout",
          "text": [
            "{'name': 'John', 'age': 25, 'country': 'USA'}\n"
          ]
        }
      ]
    },
    {
      "cell_type": "code",
      "source": [
        "# 23. Write a code to access the value associated with the key \"name\" in the dictionary {'name': 'Alice', 'age': 30}.\n",
        "person = {\"name\": \"dhruv\", \"age\": 30}\n",
        "print(person[\"name\"])\n"
      ],
      "metadata": {
        "colab": {
          "base_uri": "https://localhost:8080/"
        },
        "id": "Xm3p65sWuZX4",
        "outputId": "558ae492-0d04-437a-edef-e5347e49b56b"
      },
      "execution_count": null,
      "outputs": [
        {
          "output_type": "stream",
          "name": "stdout",
          "text": [
            "Alice\n"
          ]
        }
      ]
    },
    {
      "cell_type": "code",
      "source": [
        "# 24. Write a code to remove the key \"age\" from the dictionary {'name': 'Bob', 'age': 22, 'city': 'New York'}.\n",
        "person = {\"name\": \"manish\", \"age\": 22, \"city\": \"raipur\"}\n",
        "del person[\"age\"]\n",
        "print(person)\n"
      ],
      "metadata": {
        "colab": {
          "base_uri": "https://localhost:8080/"
        },
        "id": "r8fUxfwKud3V",
        "outputId": "8b09bb40-3298-4be7-bd7a-01b6af695fed"
      },
      "execution_count": null,
      "outputs": [
        {
          "output_type": "stream",
          "name": "stdout",
          "text": [
            "{'name': 'Bob', 'city': 'New York'}\n"
          ]
        }
      ]
    },
    {
      "cell_type": "code",
      "source": [
        "# 25. Write a code to check if the key \"city\" exists in the dictionary {'name': 'Alice', 'city': 'Paris'}.\n",
        "person = {\"name\": \"rahul\", \"city\": \"bhilai\"}\n",
        "print(\"city\" in person)\n"
      ],
      "metadata": {
        "colab": {
          "base_uri": "https://localhost:8080/"
        },
        "id": "jMzRaX61ulyX",
        "outputId": "0253385c-2ddc-4f5c-ffb7-c2a9d68dfab8"
      },
      "execution_count": null,
      "outputs": [
        {
          "output_type": "stream",
          "name": "stdout",
          "text": [
            "True\n"
          ]
        }
      ]
    },
    {
      "cell_type": "code",
      "source": [
        "# 26. Write a code to create a list, a tuple, and a dictionary, and print them all.\n",
        "my_list = [1, 2, 3]\n",
        "my_tuple = (4, 5, 6)\n",
        "my_dict = {\"a\": 7, \"b\": 8}\n",
        "print(my_list, my_tuple, my_dict)\n"
      ],
      "metadata": {
        "colab": {
          "base_uri": "https://localhost:8080/"
        },
        "id": "_k2IQYKEuq9L",
        "outputId": "f4619d2f-02e9-4c63-8d5b-0b6c76d9eb8a"
      },
      "execution_count": null,
      "outputs": [
        {
          "output_type": "stream",
          "name": "stdout",
          "text": [
            "[1, 2, 3] (4, 5, 6) {'a': 7, 'b': 8}\n"
          ]
        }
      ]
    },
    {
      "cell_type": "code",
      "source": [
        "# 27. Write a code to create a list of 5 random numbers between 1 and 100, sort it in ascending order, and print the result.\n",
        "import random\n",
        "numbers = random.sample(range(1, 101), 5)\n",
        "numbers.sort()\n",
        "print(numbers)\n"
      ],
      "metadata": {
        "colab": {
          "base_uri": "https://localhost:8080/"
        },
        "id": "6g4oYGO2uw5d",
        "outputId": "5a12f88e-26a7-421e-d7b4-4daa20b92351"
      },
      "execution_count": null,
      "outputs": [
        {
          "output_type": "stream",
          "name": "stdout",
          "text": [
            "[26, 46, 64, 76, 78]\n"
          ]
        }
      ]
    },
    {
      "cell_type": "code",
      "source": [
        "# 28. Write a code to create a list with strings and print the element at the third index.\n",
        "words = [\"apple\", \"banana\", \"cherry\", \"date\", \"fig\"]\n",
        "print(words[3])\n"
      ],
      "metadata": {
        "colab": {
          "base_uri": "https://localhost:8080/"
        },
        "id": "ooBCOF1YvA3Z",
        "outputId": "43757cf1-4762-490e-e363-cee50648274e"
      },
      "execution_count": null,
      "outputs": [
        {
          "output_type": "stream",
          "name": "stdout",
          "text": [
            "date\n"
          ]
        }
      ]
    },
    {
      "cell_type": "code",
      "source": [
        "#29. Write a code to combine two dictionaries into one and print the result.\n",
        "dict1 = {\"a\": 1, \"b\": 2}\n",
        "dict2 = {\"c\": 3, \"d\": 4}\n",
        "combined = {**dict1, **dict2}\n",
        "print(combined)\n"
      ],
      "metadata": {
        "colab": {
          "base_uri": "https://localhost:8080/"
        },
        "id": "5v-4dFrovGF2",
        "outputId": "fbb182ad-9bdf-4dbb-9d33-d409647ef736"
      },
      "execution_count": null,
      "outputs": [
        {
          "output_type": "stream",
          "name": "stdout",
          "text": [
            "{'a': 1, 'b': 2, 'c': 3, 'd': 4}\n"
          ]
        }
      ]
    },
    {
      "cell_type": "code",
      "source": [
        "# 30. Write a code to convert a list of strings into a set.\n",
        "words = [\"apple\", \"banana\", \"apple\", \"cherry\"]\n",
        "unique_words = set(words)\n",
        "print(unique_words)\n"
      ],
      "metadata": {
        "id": "CBg4aVa_vLvM"
      },
      "execution_count": null,
      "outputs": []
    }
  ]
}